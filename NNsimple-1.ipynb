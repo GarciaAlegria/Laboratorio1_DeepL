{
 "cells": [
  {
   "cell_type": "code",
   "execution_count": 6,
   "id": "aec01c69-10ff-4511-b1bd-9868bd9a817a",
   "metadata": {
    "ExecuteTime": {
     "end_time": "2024-07-26T21:56:08.123013Z",
     "start_time": "2024-07-26T21:56:07.843141Z"
    }
   },
   "outputs": [],
   "source": [
    "#!/usr/bin/env python\n",
    "# -*- coding: utf-8 -*-\n",
    "\n",
    "import numpy as np"
   ]
  },
  {
   "cell_type": "code",
   "execution_count": 7,
   "id": "57a0d0a3-bce8-4c38-8519-de438453d9c9",
   "metadata": {
    "ExecuteTime": {
     "end_time": "2024-07-26T21:56:12.606188Z",
     "start_time": "2024-07-26T21:56:12.603050Z"
    }
   },
   "outputs": [],
   "source": [
    "# Funcion de activacion \n",
    "def sigmoid(z):\n",
    "    return 1/(1 + np.exp(-z))"
   ]
  },
  {
   "cell_type": "code",
   "execution_count": 8,
   "id": "116b55fd-9a7a-4b44-9539-d4872bbe498c",
   "metadata": {
    "ExecuteTime": {
     "end_time": "2024-07-26T22:00:09.240146Z",
     "start_time": "2024-07-26T22:00:09.228378Z"
    }
   },
   "outputs": [],
   "source": [
    "# Inicializacion de los parametros \n",
    "def initialize_parameters(n_x, n_h, n_y):\n",
    "    W1 = np.random.randn(n_h, n_x)\n",
    "    b1 = np.random.randn(n_h, 1)\n",
    "    W2 = np.random.randn(n_y, n_h)\n",
    "    b2 = np.random.randn(n_y, 1)\n",
    "    \n",
    "    parameters = {\n",
    "        \"W1\": W1,\n",
    "        \"b1\" : b1,\n",
    "        \"W2\": W2,\n",
    "        \"b2\" : b2\n",
    "    }\n",
    "    return parameters\n"
   ]
  },
  {
   "cell_type": "code",
   "execution_count": 9,
   "id": "d6be7ae9-04d0-4d6a-9c01-5a7eac130dfa",
   "metadata": {
    "ExecuteTime": {
     "end_time": "2024-07-26T21:56:14.124719Z",
     "start_time": "2024-07-26T21:56:14.121429Z"
    }
   },
   "outputs": [],
   "source": [
    "def forward_prop(X, parameters):\n",
    "    W1 = parameters[\"W1\"]\n",
    "    b1 = parameters[\"b1\"]\n",
    "    W2 = parameters[\"W2\"]\n",
    "    b2 = parameters[\"b2\"]\n",
    "\n",
    "    Z1 = np.dot(W1, X) + b1\n",
    "    A1 = np.tanh(Z1)\n",
    "    Z2 = np.dot(W2, A1) + b2\n",
    "    A2 = sigmoid(Z2)\n",
    "\n",
    "    cache = {\n",
    "        \"A1\": A1,\n",
    "        \"A2\": A2\n",
    "    }\n",
    "    return A2, cache"
   ]
  },
  {
   "cell_type": "code",
   "execution_count": 10,
   "id": "b9955bcc-5d7a-4835-92a3-e8a14b17075a",
   "metadata": {
    "ExecuteTime": {
     "end_time": "2024-07-26T21:59:21.621142Z",
     "start_time": "2024-07-26T21:59:21.608741Z"
    }
   },
   "outputs": [],
   "source": [
    "# Funcion de perdida\n",
    "def loss_function(A2, Y):\n",
    "    cost = -np.sum(np.multiply(Y, np.log(A2)) +  np.multiply(1-Y, np.log(1-A2)))/m\n",
    "    cost = np.squeeze(cost)\n",
    "\n",
    "    return cost"
   ]
  },
  {
   "cell_type": "code",
   "execution_count": 11,
   "id": "c44babe6-3b89-4ae1-afa0-c0d67963db7b",
   "metadata": {
    "ExecuteTime": {
     "end_time": "2024-07-26T21:59:00.143312Z",
     "start_time": "2024-07-26T21:59:00.135020Z"
    }
   },
   "outputs": [],
   "source": [
    "def backward_prop(X, Y, cache, parameters):\n",
    "    A1 = cache[\"A1\"]\n",
    "    A2 = cache[\"A2\"]\n",
    "\n",
    "    W2 = parameters[\"W2\"]\n",
    "\n",
    "    dZ2 = A2 - Y\n",
    "    dW2 = np.dot(dZ2, A1.T)/m\n",
    "    db2 = np.sum(dZ2, axis=1, keepdims=True)/m\n",
    "    dZ1 = np.multiply(np.dot(W2.T, dZ2), 1-np.power(A1, 2))\n",
    "    dW1 = np.dot(dZ1, X.T)/m\n",
    "    db1 = np.sum(dZ1, axis=1, keepdims=True)/m\n",
    "\n",
    "    grads = {\n",
    "        \"dW1\": dW1,\n",
    "        \"db1\": db1,\n",
    "        \"dW2\": dW2,\n",
    "        \"db2\": db2\n",
    "    }\n",
    "\n",
    "    return grads"
   ]
  },
  {
   "cell_type": "code",
   "execution_count": 12,
   "id": "46551921-f9de-469c-803b-1d3178de2e63",
   "metadata": {
    "ExecuteTime": {
     "end_time": "2024-07-26T21:56:16.164320Z",
     "start_time": "2024-07-26T21:56:16.160744Z"
    }
   },
   "outputs": [],
   "source": [
    "def update_parameters(parameters, grads, learning_rate):\n",
    "    W1 = parameters[\"W1\"]\n",
    "    b1 = parameters[\"b1\"]\n",
    "    W2 = parameters[\"W2\"]\n",
    "    b2 = parameters[\"b2\"]\n",
    "\n",
    "    dW1 = grads[\"dW1\"]\n",
    "    db1 = grads[\"db1\"]\n",
    "    dW2 = grads[\"dW2\"]\n",
    "    db2 = grads[\"db2\"]\n",
    "\n",
    "    W1 = W1 - learning_rate*dW1\n",
    "    b1 = b1 - learning_rate*db1\n",
    "    W2 = W2 - learning_rate*dW2\n",
    "    b2 = b2 - learning_rate*db2\n",
    "    \n",
    "    new_parameters = {\n",
    "        \"W1\": W1,\n",
    "        \"W2\": W2,\n",
    "        \"b1\" : b1,\n",
    "        \"b2\" : b2\n",
    "    }\n",
    "\n",
    "    return new_parameters"
   ]
  },
  {
   "cell_type": "code",
   "execution_count": 13,
   "id": "d570771f-8737-448d-a26a-a29e6f0adb16",
   "metadata": {
    "ExecuteTime": {
     "end_time": "2024-07-26T21:59:14.094293Z",
     "start_time": "2024-07-26T21:59:14.087913Z"
    }
   },
   "outputs": [],
   "source": [
    "def model(X, Y, n_x, n_h, n_y, num_of_iters, learning_rate):\n",
    "    parameters = initialize_parameters(n_x, n_h, n_y)\n",
    "\n",
    "    for i in range(0, num_of_iters+1):\n",
    "        a2, cache = forward_prop(X, parameters)\n",
    "\n",
    "        cost = loss_function(a2, Y)\n",
    "\n",
    "        grads = backward_prop(X, Y, cache, parameters)\n",
    "\n",
    "        parameters = update_parameters(parameters, grads, learning_rate)\n",
    "\n",
    "        if(i%100 == 0):\n",
    "            print('Cost after iteration# {:d}: {:f}'.format(i, cost))\n",
    "\n",
    "    return parameters"
   ]
  },
  {
   "cell_type": "code",
   "execution_count": 14,
   "id": "7d18e70d-67e2-45b0-8fe6-25425837ce26",
   "metadata": {
    "ExecuteTime": {
     "end_time": "2024-07-26T21:56:19.879371Z",
     "start_time": "2024-07-26T21:56:19.874774Z"
    }
   },
   "outputs": [],
   "source": [
    "def predict(X, parameters):\n",
    "    a2, cache = forward_prop(X, parameters)\n",
    "    yhat = a2\n",
    "    yhat = np.squeeze(yhat)\n",
    "    if(yhat >= 0.5):\n",
    "        y_predict = 1\n",
    "    else:\n",
    "        y_predict = 0\n",
    "\n",
    "    return y_predict"
   ]
  },
  {
   "cell_type": "code",
   "execution_count": 15,
   "id": "d88cffb5-e998-4533-aa74-243088c76171",
   "metadata": {
    "ExecuteTime": {
     "end_time": "2024-07-26T22:00:12.409074Z",
     "start_time": "2024-07-26T22:00:12.354124Z"
    }
   },
   "outputs": [
    {
     "name": "stdout",
     "output_type": "stream",
     "text": [
      "Cost after iteration# 0: 1.052558\n",
      "Cost after iteration# 100: 0.695402\n",
      "Cost after iteration# 200: 0.693668\n",
      "Cost after iteration# 300: 0.693206\n",
      "Cost after iteration# 400: 0.692966\n",
      "Cost after iteration# 500: 0.692779\n",
      "Cost after iteration# 600: 0.692587\n",
      "Cost after iteration# 700: 0.692352\n",
      "Cost after iteration# 800: 0.692030\n",
      "Cost after iteration# 900: 0.691539\n",
      "Cost after iteration# 1000: 0.690679\n",
      "{'W1': array([[-0.59247105, -0.47282144],\n",
      "       [-2.06763357, -0.23592616]]), 'W2': array([[-0.43995116, -0.16049007]]), 'b1': array([[-1.50109455],\n",
      "       [-1.77729809]]), 'b2': array([[-0.56827845]])}\n",
      "Neural Network prediction for example (1, 1) is 1\n"
     ]
    }
   ],
   "source": [
    "np.random.seed(2)\n",
    "\n",
    "# The 4 training examples by columns\n",
    "X = np.array([[0, 0, 1, 1], [0, 1, 0, 1]])\n",
    "\n",
    "# The outputs of the XOR for every example in X\n",
    "Y = np.array([[0, 1, 1, 0]])\n",
    "\n",
    "# No. of training examples\n",
    "m = X.shape[1]\n",
    "\n",
    "# Set the hyperparameters\n",
    "n_x = 2     #No. of neurons in first layer\n",
    "n_h = 2     #No. of neurons in hidden layer\n",
    "n_y = 1     #No. of neurons in output layer\n",
    "num_of_iters = 1000\n",
    "learning_rate = 0.3\n",
    "\n",
    "trained_parameters = model(X, Y, n_x, n_h, n_y, num_of_iters, learning_rate)\n",
    "\n",
    "# Test 2X1 vector to calculate the XOR of its elements. \n",
    "# Try (0, 0), (0, 1), (1, 0), (1, 1)\n",
    "X_test = np.array([[1], [1]])\n",
    "\n",
    "print(trained_parameters)\n",
    "\n",
    "y_predict = predict(X_test, trained_parameters)\n",
    "\n",
    "print('Neural Network prediction for example ({:d}, {:d}) is {:d}'.format(\n",
    "    X_test[0][0], X_test[1][0], y_predict))"
   ]
  },
  {
   "cell_type": "code",
   "execution_count": 16,
   "id": "393fbda3",
   "metadata": {},
   "outputs": [
    {
     "name": "stdout",
     "output_type": "stream",
     "text": [
      "Cost after iteration# 0: 1.013592\n",
      "Cost after iteration# 100: 0.590854\n",
      "Cost after iteration# 200: 0.525336\n",
      "Cost after iteration# 300: 0.464032\n",
      "Cost after iteration# 400: 0.132533\n",
      "Cost after iteration# 500: 0.062978\n",
      "Cost after iteration# 600: 0.040478\n",
      "Cost after iteration# 700: 0.029604\n",
      "Cost after iteration# 800: 0.023256\n",
      "Cost after iteration# 900: 0.019114\n",
      "Cost after iteration# 1000: 0.016207\n"
     ]
    }
   ],
   "source": [
    "def initialize_parameters_zeros(n_x, n_h, n_y):\n",
    "    W1 = np.zeros((n_h, n_x))\n",
    "    b1 = np.zeros((n_h, 1))\n",
    "    W2 = np.zeros((n_y, n_h))\n",
    "    b2 = np.zeros((n_y, 1))\n",
    "    \n",
    "    parameters = {\n",
    "        \"W1\": W1,\n",
    "        \"b1\": b1,\n",
    "        \"W2\": W2,\n",
    "        \"b2\": b2\n",
    "    }\n",
    "    return parameters\n",
    "\n",
    "# Probar inicialización en 0\n",
    "parameters_zeros = initialize_parameters_zeros(n_x, n_h, n_y)\n",
    "trained_parameters_zeros = model(X, Y, n_x, n_h, n_y, num_of_iters, learning_rate)\n"
   ]
  },
  {
   "cell_type": "code",
   "execution_count": 17,
   "id": "7c006334",
   "metadata": {},
   "outputs": [
    {
     "name": "stdout",
     "output_type": "stream",
     "text": [
      "Parámetros entrenados con inicialización en 0:\n",
      "{'W1': array([[-2.92684964,  3.09007586],\n",
      "       [ 3.65689327, -3.64943032]]), 'W2': array([[-4.72800176, -4.657755  ]]), 'b1': array([[1.37578737],\n",
      "       [1.80261412]]), 'b2': array([[4.16176135]])}\n",
      "\n",
      "Parámetros entrenados con inicialización aleatoria:\n",
      "{'W1': array([[-0.59247105, -0.47282144],\n",
      "       [-2.06763357, -0.23592616]]), 'W2': array([[-0.43995116, -0.16049007]]), 'b1': array([[-1.50109455],\n",
      "       [-1.77729809]]), 'b2': array([[-0.56827845]])}\n"
     ]
    }
   ],
   "source": [
    "# Comparar la convergencia\n",
    "print(\"Parámetros entrenados con inicialización en 0:\")\n",
    "print(trained_parameters_zeros)\n",
    "print(\"\\nParámetros entrenados con inicialización aleatoria:\")\n",
    "print(trained_parameters)\n"
   ]
  },
  {
   "cell_type": "code",
   "execution_count": 18,
   "id": "5c5c2da9",
   "metadata": {},
   "outputs": [
    {
     "name": "stdout",
     "output_type": "stream",
     "text": [
      "\n",
      "Entrenando con learning rate = 0.01\n",
      "Cost after iteration# 0: 0.713866\n",
      "Cost after iteration# 100: 0.701341\n",
      "Cost after iteration# 200: 0.696097\n",
      "Cost after iteration# 300: 0.693756\n",
      "Cost after iteration# 400: 0.692557\n",
      "Cost after iteration# 500: 0.691809\n",
      "Cost after iteration# 600: 0.691242\n",
      "Cost after iteration# 700: 0.690750\n",
      "Cost after iteration# 800: 0.690291\n",
      "Cost after iteration# 900: 0.689846\n",
      "Cost after iteration# 1000: 0.689407\n",
      "Parámetros entrenados:\n",
      "{'W1': array([[-0.75129342, -0.12552864],\n",
      "       [-0.89116051, -0.28699891]]), 'W2': array([[-0.26632084, -0.45057698]]), 'b1': array([[ 0.16617547],\n",
      "       [-0.97463227]]), 'b2': array([[-0.44931124]])}\n",
      "\n",
      "Entrenando con learning rate = 0.1\n",
      "Cost after iteration# 0: 0.814060\n",
      "Cost after iteration# 100: 0.637562\n",
      "Cost after iteration# 200: 0.602264\n",
      "Cost after iteration# 300: 0.577495\n",
      "Cost after iteration# 400: 0.559278\n",
      "Cost after iteration# 500: 0.545698\n",
      "Cost after iteration# 600: 0.535411\n",
      "Cost after iteration# 700: 0.527460\n",
      "Cost after iteration# 800: 0.521180\n",
      "Cost after iteration# 900: 0.516112\n",
      "Cost after iteration# 1000: 0.511933\n",
      "Parámetros entrenados:\n",
      "{'W1': array([[-2.34544614, -2.34409553],\n",
      "       [ 0.07753402, -0.11484865]]), 'W2': array([[2.41245162, 1.70025487]]), 'b1': array([[ 4.19348567],\n",
      "       [-2.55734001]]), 'b2': array([[-0.02037966]])}\n",
      "\n",
      "Entrenando con learning rate = 0.5\n",
      "Cost after iteration# 0: 1.841951\n",
      "Cost after iteration# 100: 0.143232\n",
      "Cost after iteration# 200: 0.047126\n",
      "Cost after iteration# 300: 0.027388\n",
      "Cost after iteration# 400: 0.019169\n",
      "Cost after iteration# 500: 0.014704\n",
      "Cost after iteration# 600: 0.011909\n",
      "Cost after iteration# 700: 0.009999\n",
      "Cost after iteration# 800: 0.008612\n",
      "Cost after iteration# 900: 0.007561\n",
      "Cost after iteration# 1000: 0.006736\n",
      "Parámetros entrenados:\n",
      "{'W1': array([[ 3.60151715, -3.50652457],\n",
      "       [ 3.27692381, -3.40456261]]), 'W2': array([[-5.57269404,  5.60086385]]), 'b1': array([[ 1.69290043],\n",
      "       [-1.56469575]]), 'b2': array([[5.04726697]])}\n"
     ]
    }
   ],
   "source": [
    "# Definir diferentes learning rates\n",
    "learning_rates = [0.01, 0.1, 0.5]\n",
    "\n",
    "for lr in learning_rates:\n",
    "    print(f\"\\nEntrenando con learning rate = {lr}\")\n",
    "    try:\n",
    "        trained_parameters = model(X, Y, n_x, n_h, n_y, num_of_iters, lr)\n",
    "        print(\"Parámetros entrenados:\")\n",
    "        print(trained_parameters)\n",
    "    except Exception as e:\n",
    "        print(f\"Error al entrenar con learning rate = {lr}: {e}\")"
   ]
  }
 ],
 "metadata": {
  "kernelspec": {
   "display_name": "Python 3 (ipykernel)",
   "language": "python",
   "name": "python3"
  },
  "language_info": {
   "codemirror_mode": {
    "name": "ipython",
    "version": 3
   },
   "file_extension": ".py",
   "mimetype": "text/x-python",
   "name": "python",
   "nbconvert_exporter": "python",
   "pygments_lexer": "ipython3",
   "version": "3.11.0"
  }
 },
 "nbformat": 4,
 "nbformat_minor": 5
}
